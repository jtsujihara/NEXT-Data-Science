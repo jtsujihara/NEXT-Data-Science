{
  "nbformat": 4,
  "nbformat_minor": 0,
  "metadata": {
    "accelerator": "GPU",
    "colab": {
      "name": "CS188Project.ipynb",
      "provenance": [],
      "collapsed_sections": []
    },
    "kernelspec": {
      "display_name": "Python 3",
      "name": "python3"
    }
  },
  "cells": [
    {
      "cell_type": "code",
      "metadata": {
        "colab": {
          "base_uri": "https://localhost:8080/"
        },
        "id": "hdlM4j86ss0F",
        "outputId": "7f0127b8-eab6-41a4-d364-dd7c4ec8a0cf"
      },
      "source": [
        "from google.colab import drive\n",
        "drive.mount('/content/drive/', force_remount=True)"
      ],
      "execution_count": null,
      "outputs": [
        {
          "output_type": "stream",
          "text": [
            "Mounted at /content/drive/\n"
          ],
          "name": "stdout"
        }
      ]
    },
    {
      "cell_type": "code",
      "metadata": {
        "id": "5if76LBaOIrp"
      },
      "source": [
        "# some imports \n",
        "\n",
        "import numpy as np # linear algebra\n",
        "import pandas as pd # data processing, CSV file I/O (e.g. pd.read_csv)\n",
        "import matplotlib.pyplot as plt # this is used for the plot the graph \n",
        "import os\n",
        "import seaborn as sns # used for plot interactive graph.\n",
        "from sklearn.model_selection import train_test_split, cross_val_score, GridSearchCV\n",
        "from sklearn import metrics\n",
        "from sklearn.svm import SVC\n",
        "from sklearn.linear_model import LogisticRegression\n",
        "from sklearn.neighbors import KNeighborsClassifier\n",
        "from sklearn.tree import DecisionTreeClassifier\n",
        "from sklearn.cluster import KMeans\n",
        "from sklearn.metrics import confusion_matrix\n",
        "import sklearn.metrics.cluster as smc\n",
        "from sklearn.model_selection import KFold\n",
        "from sklearn.naive_bayes import GaussianNB\n",
        "from sklearn.metrics import classification_report\n",
        "from sklearn.metrics import roc_curve\n",
        "from sklearn.metrics import roc_auc_score\n",
        "\n",
        "\n",
        "from matplotlib import pyplot\n",
        "import itertools\n",
        "\n",
        "%matplotlib inline\n",
        "\n",
        "import random "
      ],
      "execution_count": null,
      "outputs": []
    },
    {
      "cell_type": "code",
      "metadata": {
        "colab": {
          "base_uri": "https://localhost:8080/"
        },
        "id": "NmFRSBiO7hr6",
        "outputId": "f877bced-a6d0-4137-9ae4-3535dd44b5c9"
      },
      "source": [
        "%cd /content/drive/My\\ Drive/Colab\\ Notebooks/CS188\n",
        "# %cd /content/sample_data\n",
        "%ls"
      ],
      "execution_count": null,
      "outputs": [
        {
          "output_type": "stream",
          "text": [
            "/content/drive/My Drive/Colab Notebooks/CS188\n",
            " score_V3.csv           training_dataset_V3.csv\n",
            " training_dataset.csv  'UCLA CS188 Project 3 Writeup.pdf'\n"
          ],
          "name": "stdout"
        }
      ]
    },
    {
      "cell_type": "code",
      "metadata": {
        "colab": {
          "base_uri": "https://localhost:8080/",
          "height": 929
        },
        "id": "vkbj5Ip470ze",
        "outputId": "4acad642-a7b6-4f6c-bbd7-1cbff40a1d65"
      },
      "source": [
        "data = pd.read_csv(\"training_dataset_V3.csv\")\n",
        "score = pd.read_csv(\"score_V3.csv\")\n",
        "#data = pd.read_csv(\"score.csv\")\n",
        "data.head()\n",
        "score.info()\n",
        "#data.describe()\n",
        "score.describe()"
      ],
      "execution_count": null,
      "outputs": [
        {
          "output_type": "stream",
          "text": [
            "<class 'pandas.core.frame.DataFrame'>\n",
            "RangeIndex: 1000 entries, 0 to 999\n",
            "Data columns (total 29 columns):\n",
            " #   Column                    Non-Null Count  Dtype  \n",
            "---  ------                    --------------  -----  \n",
            " 0   Unnamed: 0                1000 non-null   int64  \n",
            " 1   dt                        1000 non-null   object \n",
            " 2   weekday                   1000 non-null   object \n",
            " 3   year                      1000 non-null   int64  \n",
            " 4   id_driver                 1000 non-null   int64  \n",
            " 5   id_carrier_number         1000 non-null   object \n",
            " 6   dim_carrier_type          1000 non-null   object \n",
            " 7   dim_carrier_company_name  1000 non-null   object \n",
            " 8   home_base_city            1000 non-null   object \n",
            " 9   home_base_state           1000 non-null   object \n",
            " 10  carrier_trucks            1000 non-null   object \n",
            " 11  num_trucks                1000 non-null   float64\n",
            " 12  interested_in_drayage     1000 non-null   object \n",
            " 13  port_qualified            1000 non-null   object \n",
            " 14  signup_source             1000 non-null   object \n",
            " 15  ts_signup                 1000 non-null   object \n",
            " 16  ts_first_approved         854 non-null    object \n",
            " 17  days_signup_to_approval   854 non-null    float64\n",
            " 18  driver_with_twic          1000 non-null   object \n",
            " 19  dim_preferred_lanes       39 non-null     object \n",
            " 20  first_load_date           1000 non-null   object \n",
            " 21  load_day                  1000 non-null   object \n",
            " 22  loads                     1000 non-null   int64  \n",
            " 23  marketplace_loads_otr     1000 non-null   int64  \n",
            " 24  marketplace_loads_atlas   1000 non-null   int64  \n",
            " 25  marketplace_loads         1000 non-null   int64  \n",
            " 26  brokerage_loads_otr       1000 non-null   int64  \n",
            " 27  brokerage_loads_atlas     1000 non-null   int64  \n",
            " 28  brokerage_loads           1000 non-null   int64  \n",
            "dtypes: float64(2), int64(10), object(17)\n",
            "memory usage: 226.7+ KB\n"
          ],
          "name": "stdout"
        },
        {
          "output_type": "execute_result",
          "data": {
            "text/html": [
              "<div>\n",
              "<style scoped>\n",
              "    .dataframe tbody tr th:only-of-type {\n",
              "        vertical-align: middle;\n",
              "    }\n",
              "\n",
              "    .dataframe tbody tr th {\n",
              "        vertical-align: top;\n",
              "    }\n",
              "\n",
              "    .dataframe thead th {\n",
              "        text-align: right;\n",
              "    }\n",
              "</style>\n",
              "<table border=\"1\" class=\"dataframe\">\n",
              "  <thead>\n",
              "    <tr style=\"text-align: right;\">\n",
              "      <th></th>\n",
              "      <th>Unnamed: 0</th>\n",
              "      <th>year</th>\n",
              "      <th>id_driver</th>\n",
              "      <th>num_trucks</th>\n",
              "      <th>days_signup_to_approval</th>\n",
              "      <th>loads</th>\n",
              "      <th>marketplace_loads_otr</th>\n",
              "      <th>marketplace_loads_atlas</th>\n",
              "      <th>marketplace_loads</th>\n",
              "      <th>brokerage_loads_otr</th>\n",
              "      <th>brokerage_loads_atlas</th>\n",
              "      <th>brokerage_loads</th>\n",
              "    </tr>\n",
              "  </thead>\n",
              "  <tbody>\n",
              "    <tr>\n",
              "      <th>count</th>\n",
              "      <td>1000.000000</td>\n",
              "      <td>1000.000000</td>\n",
              "      <td>1000.000000</td>\n",
              "      <td>1000.000000</td>\n",
              "      <td>854.000000</td>\n",
              "      <td>1000.000000</td>\n",
              "      <td>1000.000000</td>\n",
              "      <td>1000.000000</td>\n",
              "      <td>1000.000000</td>\n",
              "      <td>1000.000000</td>\n",
              "      <td>1000.000000</td>\n",
              "      <td>1000.000000</td>\n",
              "    </tr>\n",
              "    <tr>\n",
              "      <th>mean</th>\n",
              "      <td>83913.500000</td>\n",
              "      <td>2018.938000</td>\n",
              "      <td>18047.613000</td>\n",
              "      <td>23.786000</td>\n",
              "      <td>303.025761</td>\n",
              "      <td>2.009000</td>\n",
              "      <td>30.633000</td>\n",
              "      <td>68.849000</td>\n",
              "      <td>99.482000</td>\n",
              "      <td>139.969000</td>\n",
              "      <td>13.441000</td>\n",
              "      <td>153.410000</td>\n",
              "    </tr>\n",
              "    <tr>\n",
              "      <th>std</th>\n",
              "      <td>288.819436</td>\n",
              "      <td>1.400756</td>\n",
              "      <td>11886.925434</td>\n",
              "      <td>49.731896</td>\n",
              "      <td>396.369014</td>\n",
              "      <td>2.097455</td>\n",
              "      <td>96.460432</td>\n",
              "      <td>190.030286</td>\n",
              "      <td>214.564073</td>\n",
              "      <td>370.005232</td>\n",
              "      <td>44.422741</td>\n",
              "      <td>368.057722</td>\n",
              "    </tr>\n",
              "    <tr>\n",
              "      <th>min</th>\n",
              "      <td>83414.000000</td>\n",
              "      <td>2015.000000</td>\n",
              "      <td>33.000000</td>\n",
              "      <td>1.000000</td>\n",
              "      <td>0.000000</td>\n",
              "      <td>1.000000</td>\n",
              "      <td>0.000000</td>\n",
              "      <td>0.000000</td>\n",
              "      <td>0.000000</td>\n",
              "      <td>0.000000</td>\n",
              "      <td>0.000000</td>\n",
              "      <td>0.000000</td>\n",
              "    </tr>\n",
              "    <tr>\n",
              "      <th>25%</th>\n",
              "      <td>83663.750000</td>\n",
              "      <td>2018.000000</td>\n",
              "      <td>7717.250000</td>\n",
              "      <td>1.000000</td>\n",
              "      <td>0.000000</td>\n",
              "      <td>1.000000</td>\n",
              "      <td>0.000000</td>\n",
              "      <td>0.000000</td>\n",
              "      <td>0.000000</td>\n",
              "      <td>0.000000</td>\n",
              "      <td>0.000000</td>\n",
              "      <td>5.000000</td>\n",
              "    </tr>\n",
              "    <tr>\n",
              "      <th>50%</th>\n",
              "      <td>83913.500000</td>\n",
              "      <td>2019.000000</td>\n",
              "      <td>16264.500000</td>\n",
              "      <td>4.000000</td>\n",
              "      <td>59.000000</td>\n",
              "      <td>1.000000</td>\n",
              "      <td>2.000000</td>\n",
              "      <td>0.000000</td>\n",
              "      <td>13.000000</td>\n",
              "      <td>13.500000</td>\n",
              "      <td>0.000000</td>\n",
              "      <td>35.000000</td>\n",
              "    </tr>\n",
              "    <tr>\n",
              "      <th>75%</th>\n",
              "      <td>84163.250000</td>\n",
              "      <td>2020.000000</td>\n",
              "      <td>28974.000000</td>\n",
              "      <td>15.000000</td>\n",
              "      <td>497.000000</td>\n",
              "      <td>2.000000</td>\n",
              "      <td>22.000000</td>\n",
              "      <td>18.000000</td>\n",
              "      <td>88.000000</td>\n",
              "      <td>109.250000</td>\n",
              "      <td>1.000000</td>\n",
              "      <td>131.500000</td>\n",
              "    </tr>\n",
              "    <tr>\n",
              "      <th>max</th>\n",
              "      <td>84413.000000</td>\n",
              "      <td>2021.000000</td>\n",
              "      <td>37962.000000</td>\n",
              "      <td>195.000000</td>\n",
              "      <td>1561.000000</td>\n",
              "      <td>27.000000</td>\n",
              "      <td>902.000000</td>\n",
              "      <td>1324.000000</td>\n",
              "      <td>1348.000000</td>\n",
              "      <td>2671.000000</td>\n",
              "      <td>371.000000</td>\n",
              "      <td>2671.000000</td>\n",
              "    </tr>\n",
              "  </tbody>\n",
              "</table>\n",
              "</div>"
            ],
            "text/plain": [
              "         Unnamed: 0         year  ...  brokerage_loads_atlas  brokerage_loads\n",
              "count   1000.000000  1000.000000  ...            1000.000000      1000.000000\n",
              "mean   83913.500000  2018.938000  ...              13.441000       153.410000\n",
              "std      288.819436     1.400756  ...              44.422741       368.057722\n",
              "min    83414.000000  2015.000000  ...               0.000000         0.000000\n",
              "25%    83663.750000  2018.000000  ...               0.000000         5.000000\n",
              "50%    83913.500000  2019.000000  ...               0.000000        35.000000\n",
              "75%    84163.250000  2020.000000  ...               1.000000       131.500000\n",
              "max    84413.000000  2021.000000  ...             371.000000      2671.000000\n",
              "\n",
              "[8 rows x 12 columns]"
            ]
          },
          "metadata": {
            "tags": []
          },
          "execution_count": 4
        }
      ]
    },
    {
      "cell_type": "code",
      "metadata": {
        "colab": {
          "base_uri": "https://localhost:8080/"
        },
        "id": "af7SqEhAOpys",
        "outputId": "a9bdc064-e36f-45d7-80ea-ed4de004a952"
      },
      "source": [
        "# 1. generate labels\n",
        "\n",
        "loads_75 = data[\"total_loads\"].quantile(0.75)\n",
        "\n",
        "# process dates\n",
        "data['most_recent_load_date'] =  pd.to_datetime(data['most_recent_load_date'])\n",
        "today = pd.to_datetime(\"today\")\n",
        "data[\"most_recent_load_days\"] = data['most_recent_load_date'] - today\n",
        "date_75 = data[\"most_recent_load_days\"].quantile(0.75)\n",
        "print(date_75)\n",
        "\n",
        "data[\"new_label\"] = ((data[\"total_loads\"] >= loads_75) & (data[\"most_recent_load_days\"] >= date_75)).astype(int)\n",
        "data.info()"
      ],
      "execution_count": null,
      "outputs": [
        {
          "output_type": "stream",
          "text": [
            "-33 days +07:49:29.852491\n",
            "<class 'pandas.core.frame.DataFrame'>\n",
            "RangeIndex: 83414 entries, 0 to 83413\n",
            "Data columns (total 33 columns):\n",
            " #   Column                    Non-Null Count  Dtype          \n",
            "---  ------                    --------------  -----          \n",
            " 0   Unnamed: 0                83414 non-null  int64          \n",
            " 1   dt                        83414 non-null  object         \n",
            " 2   weekday                   83414 non-null  object         \n",
            " 3   year                      83414 non-null  int64          \n",
            " 4   id_driver                 83414 non-null  int64          \n",
            " 5   id_carrier_number         83414 non-null  object         \n",
            " 6   dim_carrier_type          83414 non-null  object         \n",
            " 7   dim_carrier_company_name  83365 non-null  object         \n",
            " 8   home_base_city            83369 non-null  object         \n",
            " 9   home_base_state           83369 non-null  object         \n",
            " 10  carrier_trucks            83414 non-null  object         \n",
            " 11  num_trucks                83344 non-null  float64        \n",
            " 12  interested_in_drayage     83414 non-null  object         \n",
            " 13  port_qualified            83414 non-null  object         \n",
            " 14  signup_source             83414 non-null  object         \n",
            " 15  ts_signup                 83414 non-null  object         \n",
            " 16  ts_first_approved         71124 non-null  object         \n",
            " 17  days_signup_to_approval   71124 non-null  float64        \n",
            " 18  driver_with_twic          83414 non-null  object         \n",
            " 19  dim_preferred_lanes       3412 non-null   object         \n",
            " 20  first_load_date           83414 non-null  object         \n",
            " 21  most_recent_load_date     83414 non-null  datetime64[ns] \n",
            " 22  load_day                  83414 non-null  object         \n",
            " 23  loads                     83414 non-null  int64          \n",
            " 24  marketplace_loads_otr     83414 non-null  int64          \n",
            " 25  marketplace_loads_atlas   83414 non-null  int64          \n",
            " 26  marketplace_loads         83414 non-null  int64          \n",
            " 27  brokerage_loads_otr       83414 non-null  int64          \n",
            " 28  brokerage_loads_atlas     83414 non-null  int64          \n",
            " 29  brokerage_loads           83414 non-null  int64          \n",
            " 30  total_loads               83414 non-null  int64          \n",
            " 31  most_recent_load_days     83414 non-null  timedelta64[ns]\n",
            " 32  new_label                 83414 non-null  int64          \n",
            "dtypes: datetime64[ns](1), float64(2), int64(12), object(17), timedelta64[ns](1)\n",
            "memory usage: 21.0+ MB\n"
          ],
          "name": "stdout"
        }
      ]
    },
    {
      "cell_type": "code",
      "metadata": {
        "colab": {
          "base_uri": "https://localhost:8080/"
        },
        "id": "ky_debLrbQ9v",
        "outputId": "a56d24db-7ce5-40e4-d5df-7da66d1f7912"
      },
      "source": [
        "score.info()"
      ],
      "execution_count": null,
      "outputs": [
        {
          "output_type": "stream",
          "text": [
            "<class 'pandas.core.frame.DataFrame'>\n",
            "RangeIndex: 1000 entries, 0 to 999\n",
            "Data columns (total 29 columns):\n",
            " #   Column                    Non-Null Count  Dtype  \n",
            "---  ------                    --------------  -----  \n",
            " 0   Unnamed: 0                1000 non-null   int64  \n",
            " 1   dt                        1000 non-null   object \n",
            " 2   weekday                   1000 non-null   object \n",
            " 3   year                      1000 non-null   int64  \n",
            " 4   id_driver                 1000 non-null   int64  \n",
            " 5   id_carrier_number         1000 non-null   object \n",
            " 6   dim_carrier_type          1000 non-null   object \n",
            " 7   dim_carrier_company_name  1000 non-null   object \n",
            " 8   home_base_city            1000 non-null   object \n",
            " 9   home_base_state           1000 non-null   object \n",
            " 10  carrier_trucks            1000 non-null   object \n",
            " 11  num_trucks                1000 non-null   float64\n",
            " 12  interested_in_drayage     1000 non-null   object \n",
            " 13  port_qualified            1000 non-null   object \n",
            " 14  signup_source             1000 non-null   object \n",
            " 15  ts_signup                 1000 non-null   object \n",
            " 16  ts_first_approved         854 non-null    object \n",
            " 17  days_signup_to_approval   854 non-null    float64\n",
            " 18  driver_with_twic          1000 non-null   object \n",
            " 19  dim_preferred_lanes       39 non-null     object \n",
            " 20  first_load_date           1000 non-null   object \n",
            " 21  load_day                  1000 non-null   object \n",
            " 22  loads                     1000 non-null   int64  \n",
            " 23  marketplace_loads_otr     1000 non-null   int64  \n",
            " 24  marketplace_loads_atlas   1000 non-null   int64  \n",
            " 25  marketplace_loads         1000 non-null   int64  \n",
            " 26  brokerage_loads_otr       1000 non-null   int64  \n",
            " 27  brokerage_loads_atlas     1000 non-null   int64  \n",
            " 28  brokerage_loads           1000 non-null   int64  \n",
            "dtypes: float64(2), int64(10), object(17)\n",
            "memory usage: 226.7+ KB\n"
          ],
          "name": "stdout"
        }
      ]
    },
    {
      "cell_type": "markdown",
      "metadata": {
        "id": "dve0n0xONJEn"
      },
      "source": [
        "Concatenating both data and scores together"
      ]
    },
    {
      "cell_type": "code",
      "metadata": {
        "colab": {
          "base_uri": "https://localhost:8080/",
          "height": 1000
        },
        "id": "uj8TwE3uM2ct",
        "outputId": "79a32964-2265-4227-b86b-76857b83c3e6"
      },
      "source": [
        "frames = [data, score]\n",
        "data = pd.concat(frames)\n",
        "data.info()\n",
        "data.tail()"
      ],
      "execution_count": null,
      "outputs": [
        {
          "output_type": "stream",
          "text": [
            "<class 'pandas.core.frame.DataFrame'>\n",
            "Int64Index: 84414 entries, 0 to 999\n",
            "Data columns (total 33 columns):\n",
            " #   Column                    Non-Null Count  Dtype          \n",
            "---  ------                    --------------  -----          \n",
            " 0   Unnamed: 0                84414 non-null  int64          \n",
            " 1   dt                        84414 non-null  object         \n",
            " 2   weekday                   84414 non-null  object         \n",
            " 3   year                      84414 non-null  int64          \n",
            " 4   id_driver                 84414 non-null  int64          \n",
            " 5   id_carrier_number         84414 non-null  object         \n",
            " 6   dim_carrier_type          84414 non-null  object         \n",
            " 7   dim_carrier_company_name  84365 non-null  object         \n",
            " 8   home_base_city            84369 non-null  object         \n",
            " 9   home_base_state           84369 non-null  object         \n",
            " 10  carrier_trucks            84414 non-null  object         \n",
            " 11  num_trucks                84344 non-null  float64        \n",
            " 12  interested_in_drayage     84414 non-null  object         \n",
            " 13  port_qualified            84414 non-null  object         \n",
            " 14  signup_source             84414 non-null  object         \n",
            " 15  ts_signup                 84414 non-null  object         \n",
            " 16  ts_first_approved         71978 non-null  object         \n",
            " 17  days_signup_to_approval   71978 non-null  float64        \n",
            " 18  driver_with_twic          84414 non-null  object         \n",
            " 19  dim_preferred_lanes       3451 non-null   object         \n",
            " 20  first_load_date           84414 non-null  object         \n",
            " 21  most_recent_load_date     83414 non-null  datetime64[ns] \n",
            " 22  load_day                  84414 non-null  object         \n",
            " 23  loads                     84414 non-null  int64          \n",
            " 24  marketplace_loads_otr     84414 non-null  int64          \n",
            " 25  marketplace_loads_atlas   84414 non-null  int64          \n",
            " 26  marketplace_loads         84414 non-null  int64          \n",
            " 27  brokerage_loads_otr       84414 non-null  int64          \n",
            " 28  brokerage_loads_atlas     84414 non-null  int64          \n",
            " 29  brokerage_loads           84414 non-null  int64          \n",
            " 30  total_loads               83414 non-null  float64        \n",
            " 31  most_recent_load_days     83414 non-null  timedelta64[ns]\n",
            " 32  new_label                 83414 non-null  float64        \n",
            "dtypes: datetime64[ns](1), float64(4), int64(10), object(17), timedelta64[ns](1)\n",
            "memory usage: 21.9+ MB\n"
          ],
          "name": "stdout"
        },
        {
          "output_type": "execute_result",
          "data": {
            "text/html": [
              "<div>\n",
              "<style scoped>\n",
              "    .dataframe tbody tr th:only-of-type {\n",
              "        vertical-align: middle;\n",
              "    }\n",
              "\n",
              "    .dataframe tbody tr th {\n",
              "        vertical-align: top;\n",
              "    }\n",
              "\n",
              "    .dataframe thead th {\n",
              "        text-align: right;\n",
              "    }\n",
              "</style>\n",
              "<table border=\"1\" class=\"dataframe\">\n",
              "  <thead>\n",
              "    <tr style=\"text-align: right;\">\n",
              "      <th></th>\n",
              "      <th>Unnamed: 0</th>\n",
              "      <th>dt</th>\n",
              "      <th>weekday</th>\n",
              "      <th>year</th>\n",
              "      <th>id_driver</th>\n",
              "      <th>id_carrier_number</th>\n",
              "      <th>dim_carrier_type</th>\n",
              "      <th>dim_carrier_company_name</th>\n",
              "      <th>home_base_city</th>\n",
              "      <th>home_base_state</th>\n",
              "      <th>carrier_trucks</th>\n",
              "      <th>num_trucks</th>\n",
              "      <th>interested_in_drayage</th>\n",
              "      <th>port_qualified</th>\n",
              "      <th>signup_source</th>\n",
              "      <th>ts_signup</th>\n",
              "      <th>ts_first_approved</th>\n",
              "      <th>days_signup_to_approval</th>\n",
              "      <th>driver_with_twic</th>\n",
              "      <th>dim_preferred_lanes</th>\n",
              "      <th>first_load_date</th>\n",
              "      <th>most_recent_load_date</th>\n",
              "      <th>load_day</th>\n",
              "      <th>loads</th>\n",
              "      <th>marketplace_loads_otr</th>\n",
              "      <th>marketplace_loads_atlas</th>\n",
              "      <th>marketplace_loads</th>\n",
              "      <th>brokerage_loads_otr</th>\n",
              "      <th>brokerage_loads_atlas</th>\n",
              "      <th>brokerage_loads</th>\n",
              "      <th>total_loads</th>\n",
              "      <th>most_recent_load_days</th>\n",
              "      <th>new_label</th>\n",
              "    </tr>\n",
              "  </thead>\n",
              "  <tbody>\n",
              "    <tr>\n",
              "      <th>995</th>\n",
              "      <td>84409</td>\n",
              "      <td>2018-09-22</td>\n",
              "      <td>Saturday</td>\n",
              "      <td>2018</td>\n",
              "      <td>597</td>\n",
              "      <td>C0090094</td>\n",
              "      <td>Fleet</td>\n",
              "      <td>MC Express Trucking LLC</td>\n",
              "      <td>Rosarito</td>\n",
              "      <td>B.C.</td>\n",
              "      <td>[\"dryvan\"]</td>\n",
              "      <td>101.0</td>\n",
              "      <td>not specified</td>\n",
              "      <td>no</td>\n",
              "      <td>Other</td>\n",
              "      <td>2016-03-09 20:56:40+00:00</td>\n",
              "      <td>2019-02-22 16:56:58+00:00</td>\n",
              "      <td>1079.0</td>\n",
              "      <td>no</td>\n",
              "      <td>NaN</td>\n",
              "      <td>2016-04-15</td>\n",
              "      <td>NaT</td>\n",
              "      <td>2018-09-22</td>\n",
              "      <td>1</td>\n",
              "      <td>0</td>\n",
              "      <td>0</td>\n",
              "      <td>0</td>\n",
              "      <td>62</td>\n",
              "      <td>0</td>\n",
              "      <td>62</td>\n",
              "      <td>NaN</td>\n",
              "      <td>NaT</td>\n",
              "      <td>NaN</td>\n",
              "    </tr>\n",
              "    <tr>\n",
              "      <th>996</th>\n",
              "      <td>84410</td>\n",
              "      <td>2020-07-02</td>\n",
              "      <td>Thursday</td>\n",
              "      <td>2020</td>\n",
              "      <td>32167</td>\n",
              "      <td>U0119262</td>\n",
              "      <td>Owner Operator</td>\n",
              "      <td>Lagosian Transport</td>\n",
              "      <td>Compton</td>\n",
              "      <td>CA</td>\n",
              "      <td>[\"poweronly\"]</td>\n",
              "      <td>1.0</td>\n",
              "      <td>not specified</td>\n",
              "      <td>no</td>\n",
              "      <td>Mobile</td>\n",
              "      <td>2019-12-31 21:32:50+00:00</td>\n",
              "      <td>2020-01-09 00:43:58+00:00</td>\n",
              "      <td>8.0</td>\n",
              "      <td>no</td>\n",
              "      <td>NaN</td>\n",
              "      <td>2020-02-04</td>\n",
              "      <td>NaT</td>\n",
              "      <td>2020-07-02</td>\n",
              "      <td>2</td>\n",
              "      <td>38</td>\n",
              "      <td>267</td>\n",
              "      <td>305</td>\n",
              "      <td>2</td>\n",
              "      <td>19</td>\n",
              "      <td>21</td>\n",
              "      <td>NaN</td>\n",
              "      <td>NaT</td>\n",
              "      <td>NaN</td>\n",
              "    </tr>\n",
              "    <tr>\n",
              "      <th>997</th>\n",
              "      <td>84411</td>\n",
              "      <td>2018-06-27</td>\n",
              "      <td>Wednesday</td>\n",
              "      <td>2018</td>\n",
              "      <td>7054</td>\n",
              "      <td>U0096411</td>\n",
              "      <td>Owner Operator</td>\n",
              "      <td>pioneer transport</td>\n",
              "      <td>San Bernardino</td>\n",
              "      <td>CA</td>\n",
              "      <td>[\"dryvan\"]</td>\n",
              "      <td>1.0</td>\n",
              "      <td>not specified</td>\n",
              "      <td>no</td>\n",
              "      <td>Other</td>\n",
              "      <td>2017-07-11 22:31:31+00:00</td>\n",
              "      <td>2019-10-03 17:52:13+00:00</td>\n",
              "      <td>813.0</td>\n",
              "      <td>no</td>\n",
              "      <td>NaN</td>\n",
              "      <td>2018-04-16</td>\n",
              "      <td>NaT</td>\n",
              "      <td>2018-06-27</td>\n",
              "      <td>1</td>\n",
              "      <td>19</td>\n",
              "      <td>5</td>\n",
              "      <td>24</td>\n",
              "      <td>11</td>\n",
              "      <td>0</td>\n",
              "      <td>11</td>\n",
              "      <td>NaN</td>\n",
              "      <td>NaT</td>\n",
              "      <td>NaN</td>\n",
              "    </tr>\n",
              "    <tr>\n",
              "      <th>998</th>\n",
              "      <td>84412</td>\n",
              "      <td>2017-03-21</td>\n",
              "      <td>Tuesday</td>\n",
              "      <td>2017</td>\n",
              "      <td>638</td>\n",
              "      <td>C0090094</td>\n",
              "      <td>Fleet</td>\n",
              "      <td>MC Express Trucking LLC</td>\n",
              "      <td>Rosarito</td>\n",
              "      <td>B.C.</td>\n",
              "      <td>[\"dryvan\"]</td>\n",
              "      <td>101.0</td>\n",
              "      <td>not specified</td>\n",
              "      <td>no</td>\n",
              "      <td>Other</td>\n",
              "      <td>2016-03-09 20:56:40+00:00</td>\n",
              "      <td>2019-02-22 16:56:58+00:00</td>\n",
              "      <td>1079.0</td>\n",
              "      <td>no</td>\n",
              "      <td>NaN</td>\n",
              "      <td>2016-04-04</td>\n",
              "      <td>NaT</td>\n",
              "      <td>2017-03-21</td>\n",
              "      <td>1</td>\n",
              "      <td>0</td>\n",
              "      <td>0</td>\n",
              "      <td>0</td>\n",
              "      <td>119</td>\n",
              "      <td>0</td>\n",
              "      <td>119</td>\n",
              "      <td>NaN</td>\n",
              "      <td>NaT</td>\n",
              "      <td>NaN</td>\n",
              "    </tr>\n",
              "    <tr>\n",
              "      <th>999</th>\n",
              "      <td>84413</td>\n",
              "      <td>2020-11-07</td>\n",
              "      <td>Saturday</td>\n",
              "      <td>2020</td>\n",
              "      <td>33543</td>\n",
              "      <td>C0093828</td>\n",
              "      <td>Fleet</td>\n",
              "      <td>CR TRANSPORTATION</td>\n",
              "      <td>San Bernardino</td>\n",
              "      <td>CA</td>\n",
              "      <td>[\"dryvan\"]</td>\n",
              "      <td>10.0</td>\n",
              "      <td>yes</td>\n",
              "      <td>no</td>\n",
              "      <td>Other</td>\n",
              "      <td>2018-12-13 19:49:00+00:00</td>\n",
              "      <td>2018-12-13 19:49:29+00:00</td>\n",
              "      <td>0.0</td>\n",
              "      <td>no</td>\n",
              "      <td>NaN</td>\n",
              "      <td>2020-03-05</td>\n",
              "      <td>NaT</td>\n",
              "      <td>2020-11-07</td>\n",
              "      <td>1</td>\n",
              "      <td>4</td>\n",
              "      <td>6</td>\n",
              "      <td>10</td>\n",
              "      <td>73</td>\n",
              "      <td>0</td>\n",
              "      <td>73</td>\n",
              "      <td>NaN</td>\n",
              "      <td>NaT</td>\n",
              "      <td>NaN</td>\n",
              "    </tr>\n",
              "  </tbody>\n",
              "</table>\n",
              "</div>"
            ],
            "text/plain": [
              "     Unnamed: 0          dt  ... most_recent_load_days  new_label\n",
              "995       84409  2018-09-22  ...                   NaT        NaN\n",
              "996       84410  2020-07-02  ...                   NaT        NaN\n",
              "997       84411  2018-06-27  ...                   NaT        NaN\n",
              "998       84412  2017-03-21  ...                   NaT        NaN\n",
              "999       84413  2020-11-07  ...                   NaT        NaN\n",
              "\n",
              "[5 rows x 33 columns]"
            ]
          },
          "metadata": {
            "tags": []
          },
          "execution_count": 6
        }
      ]
    },
    {
      "cell_type": "code",
      "metadata": {
        "colab": {
          "base_uri": "https://localhost:8080/",
          "height": 949
        },
        "id": "HN_VeaeoM6vK",
        "outputId": "eb932aca-4568-4275-d252-6a11216e740a"
      },
      "source": [
        "# 2.\n",
        "#First dropping various columns\n",
        "\n",
        "#note: possibly add home_base_city\n",
        "%load_ext google.colab.data_table\n",
        "\n",
        "df_drop = data.drop([\"weekday\",\"dt\", \"loads\", \"most_recent_load_date\", \"Unnamed: 0\",\"year\",\"id_driver\",\"id_carrier_number\",\"dim_carrier_company_name\",\"home_base_city\", \"ts_first_approved\", \"dim_preferred_lanes\", \"ts_signup\", \"most_recent_load_days\", \"total_loads\"], axis=1)\n",
        "#drop rows with null num_trucks and home_base_state\n",
        "\n",
        "df_row_drop2 = df_drop.dropna(subset=[\"num_trucks\", \"home_base_state\"])\n",
        "df_row_drop2.info()\n",
        "\n",
        "\n",
        "#clustering days_signup_to_approval into 3 categories\n",
        "approval_conditions = [\n",
        "      (df_row_drop2[\"days_signup_to_approval\"] <= 63.0),\n",
        "      (df_row_drop2[\"days_signup_to_approval\"] > 63.0) & (df_row_drop2[\"days_signup_to_approval\"] <= 1653.0),\n",
        "      (np.isnan(df_row_drop2[\"days_signup_to_approval\"]))\n",
        "]\n",
        "approval_tiers = [\"Low\", \"High\", \"Not approved\"]\n",
        "df_row_drop2[\"approval_tier\"] = np.select(approval_conditions, approval_tiers)\n",
        "df_row_drop3 = df_row_drop2.drop(\"days_signup_to_approval\", axis=1)\n",
        "\n",
        "#carrier_trucks, create a separate column for each category\n",
        "attributes = [\"dryvan\", \"boxtruck\", \"poweronly\", \"reefer\", \"flatbed\"]\n",
        "for attribute in attributes: \n",
        "  df_row_drop3[attribute] = df_row_drop3[\"carrier_trucks\"].str.contains(attribute).astype(int)\n",
        "\n",
        "df_row_drop4 = df_row_drop3.drop(\"carrier_trucks\", axis=1)\n",
        "today = pd.to_datetime(\"today\")\n",
        "df_row_drop4[\"first_load_date\"] = (pd.to_datetime(df_row_drop4[\"first_load_date\"]) - today).astype(int)\n",
        "df_row_drop4[\"load_day\"] = (pd.to_datetime(df_row_drop4[\"load_day\"]) - today).astype(int)\n",
        "df_row_drop4"
      ],
      "execution_count": null,
      "outputs": [
        {
          "output_type": "stream",
          "text": [
            "<class 'pandas.core.frame.DataFrame'>\n",
            "Int64Index: 84300 entries, 0 to 999\n",
            "Data columns (total 18 columns):\n",
            " #   Column                   Non-Null Count  Dtype  \n",
            "---  ------                   --------------  -----  \n",
            " 0   dim_carrier_type         84300 non-null  object \n",
            " 1   home_base_state          84300 non-null  object \n",
            " 2   carrier_trucks           84300 non-null  object \n",
            " 3   num_trucks               84300 non-null  float64\n",
            " 4   interested_in_drayage    84300 non-null  object \n",
            " 5   port_qualified           84300 non-null  object \n",
            " 6   signup_source            84300 non-null  object \n",
            " 7   days_signup_to_approval  71926 non-null  float64\n",
            " 8   driver_with_twic         84300 non-null  object \n",
            " 9   first_load_date          84300 non-null  object \n",
            " 10  load_day                 84300 non-null  object \n",
            " 11  marketplace_loads_otr    84300 non-null  int64  \n",
            " 12  marketplace_loads_atlas  84300 non-null  int64  \n",
            " 13  marketplace_loads        84300 non-null  int64  \n",
            " 14  brokerage_loads_otr      84300 non-null  int64  \n",
            " 15  brokerage_loads_atlas    84300 non-null  int64  \n",
            " 16  brokerage_loads          84300 non-null  int64  \n",
            " 17  new_label                83300 non-null  float64\n",
            "dtypes: float64(3), int64(6), object(9)\n",
            "memory usage: 12.2+ MB\n"
          ],
          "name": "stdout"
        },
        {
          "output_type": "stream",
          "text": [
            "/usr/local/lib/python3.7/dist-packages/ipykernel_launcher.py:21: SettingWithCopyWarning: \n",
            "A value is trying to be set on a copy of a slice from a DataFrame.\n",
            "Try using .loc[row_indexer,col_indexer] = value instead\n",
            "\n",
            "See the caveats in the documentation: https://pandas.pydata.org/pandas-docs/stable/user_guide/indexing.html#returning-a-view-versus-a-copy\n"
          ],
          "name": "stderr"
        },
        {
          "output_type": "execute_result",
          "data": {
            "text/html": [
              "<div>\n",
              "<style scoped>\n",
              "    .dataframe tbody tr th:only-of-type {\n",
              "        vertical-align: middle;\n",
              "    }\n",
              "\n",
              "    .dataframe tbody tr th {\n",
              "        vertical-align: top;\n",
              "    }\n",
              "\n",
              "    .dataframe thead th {\n",
              "        text-align: right;\n",
              "    }\n",
              "</style>\n",
              "<table border=\"1\" class=\"dataframe\">\n",
              "  <thead>\n",
              "    <tr style=\"text-align: right;\">\n",
              "      <th></th>\n",
              "      <th>dim_carrier_type</th>\n",
              "      <th>home_base_state</th>\n",
              "      <th>num_trucks</th>\n",
              "      <th>interested_in_drayage</th>\n",
              "      <th>port_qualified</th>\n",
              "      <th>signup_source</th>\n",
              "      <th>driver_with_twic</th>\n",
              "      <th>first_load_date</th>\n",
              "      <th>load_day</th>\n",
              "      <th>marketplace_loads_otr</th>\n",
              "      <th>marketplace_loads_atlas</th>\n",
              "      <th>marketplace_loads</th>\n",
              "      <th>brokerage_loads_otr</th>\n",
              "      <th>brokerage_loads_atlas</th>\n",
              "      <th>brokerage_loads</th>\n",
              "      <th>new_label</th>\n",
              "      <th>approval_tier</th>\n",
              "      <th>dryvan</th>\n",
              "      <th>boxtruck</th>\n",
              "      <th>poweronly</th>\n",
              "      <th>reefer</th>\n",
              "      <th>flatbed</th>\n",
              "    </tr>\n",
              "  </thead>\n",
              "  <tbody>\n",
              "    <tr>\n",
              "      <th>0</th>\n",
              "      <td>Owner Operator</td>\n",
              "      <td>CA</td>\n",
              "      <td>1.0</td>\n",
              "      <td>yes</td>\n",
              "      <td>yes</td>\n",
              "      <td>Other</td>\n",
              "      <td>yes</td>\n",
              "      <td>-44208640075058000</td>\n",
              "      <td>-39629440075058000</td>\n",
              "      <td>0</td>\n",
              "      <td>438</td>\n",
              "      <td>438</td>\n",
              "      <td>0</td>\n",
              "      <td>45</td>\n",
              "      <td>45</td>\n",
              "      <td>1.0</td>\n",
              "      <td>Low</td>\n",
              "      <td>0</td>\n",
              "      <td>0</td>\n",
              "      <td>1</td>\n",
              "      <td>0</td>\n",
              "      <td>0</td>\n",
              "    </tr>\n",
              "    <tr>\n",
              "      <th>1</th>\n",
              "      <td>Fleet</td>\n",
              "      <td>CA</td>\n",
              "      <td>15.0</td>\n",
              "      <td>yes</td>\n",
              "      <td>yes</td>\n",
              "      <td>Mobile</td>\n",
              "      <td>no</td>\n",
              "      <td>-13450240075058000</td>\n",
              "      <td>-5415040075058000</td>\n",
              "      <td>2</td>\n",
              "      <td>72</td>\n",
              "      <td>74</td>\n",
              "      <td>0</td>\n",
              "      <td>1</td>\n",
              "      <td>1</td>\n",
              "      <td>0.0</td>\n",
              "      <td>Low</td>\n",
              "      <td>0</td>\n",
              "      <td>1</td>\n",
              "      <td>1</td>\n",
              "      <td>0</td>\n",
              "      <td>0</td>\n",
              "    </tr>\n",
              "    <tr>\n",
              "      <th>2</th>\n",
              "      <td>Owner Operator</td>\n",
              "      <td>CA</td>\n",
              "      <td>1.0</td>\n",
              "      <td>yes</td>\n",
              "      <td>yes</td>\n",
              "      <td>Other</td>\n",
              "      <td>yes</td>\n",
              "      <td>-39975040075058000</td>\n",
              "      <td>-38765440075058000</td>\n",
              "      <td>0</td>\n",
              "      <td>180</td>\n",
              "      <td>180</td>\n",
              "      <td>0</td>\n",
              "      <td>2</td>\n",
              "      <td>2</td>\n",
              "      <td>0.0</td>\n",
              "      <td>High</td>\n",
              "      <td>0</td>\n",
              "      <td>0</td>\n",
              "      <td>1</td>\n",
              "      <td>0</td>\n",
              "      <td>0</td>\n",
              "    </tr>\n",
              "    <tr>\n",
              "      <th>3</th>\n",
              "      <td>Fleet</td>\n",
              "      <td>CA</td>\n",
              "      <td>195.0</td>\n",
              "      <td>yes</td>\n",
              "      <td>yes</td>\n",
              "      <td>Other</td>\n",
              "      <td>yes</td>\n",
              "      <td>-23645440075058000</td>\n",
              "      <td>-3168640075058000</td>\n",
              "      <td>0</td>\n",
              "      <td>0</td>\n",
              "      <td>0</td>\n",
              "      <td>0</td>\n",
              "      <td>0</td>\n",
              "      <td>0</td>\n",
              "      <td>0.0</td>\n",
              "      <td>Low</td>\n",
              "      <td>1</td>\n",
              "      <td>0</td>\n",
              "      <td>1</td>\n",
              "      <td>0</td>\n",
              "      <td>0</td>\n",
              "    </tr>\n",
              "    <tr>\n",
              "      <th>4</th>\n",
              "      <td>Owner Operator</td>\n",
              "      <td>CA</td>\n",
              "      <td>1.0</td>\n",
              "      <td>not specified</td>\n",
              "      <td>no</td>\n",
              "      <td>Other</td>\n",
              "      <td>no</td>\n",
              "      <td>-131472640075058000</td>\n",
              "      <td>-115229440075058000</td>\n",
              "      <td>57</td>\n",
              "      <td>0</td>\n",
              "      <td>57</td>\n",
              "      <td>314</td>\n",
              "      <td>0</td>\n",
              "      <td>314</td>\n",
              "      <td>0.0</td>\n",
              "      <td>High</td>\n",
              "      <td>1</td>\n",
              "      <td>0</td>\n",
              "      <td>0</td>\n",
              "      <td>0</td>\n",
              "      <td>0</td>\n",
              "    </tr>\n",
              "    <tr>\n",
              "      <th>...</th>\n",
              "      <td>...</td>\n",
              "      <td>...</td>\n",
              "      <td>...</td>\n",
              "      <td>...</td>\n",
              "      <td>...</td>\n",
              "      <td>...</td>\n",
              "      <td>...</td>\n",
              "      <td>...</td>\n",
              "      <td>...</td>\n",
              "      <td>...</td>\n",
              "      <td>...</td>\n",
              "      <td>...</td>\n",
              "      <td>...</td>\n",
              "      <td>...</td>\n",
              "      <td>...</td>\n",
              "      <td>...</td>\n",
              "      <td>...</td>\n",
              "      <td>...</td>\n",
              "      <td>...</td>\n",
              "      <td>...</td>\n",
              "      <td>...</td>\n",
              "      <td>...</td>\n",
              "    </tr>\n",
              "    <tr>\n",
              "      <th>995</th>\n",
              "      <td>Fleet</td>\n",
              "      <td>B.C.</td>\n",
              "      <td>101.0</td>\n",
              "      <td>not specified</td>\n",
              "      <td>no</td>\n",
              "      <td>Other</td>\n",
              "      <td>no</td>\n",
              "      <td>-155405440075058000</td>\n",
              "      <td>-78509440075058000</td>\n",
              "      <td>0</td>\n",
              "      <td>0</td>\n",
              "      <td>0</td>\n",
              "      <td>62</td>\n",
              "      <td>0</td>\n",
              "      <td>62</td>\n",
              "      <td>NaN</td>\n",
              "      <td>High</td>\n",
              "      <td>1</td>\n",
              "      <td>0</td>\n",
              "      <td>0</td>\n",
              "      <td>0</td>\n",
              "      <td>0</td>\n",
              "    </tr>\n",
              "    <tr>\n",
              "      <th>996</th>\n",
              "      <td>Owner Operator</td>\n",
              "      <td>CA</td>\n",
              "      <td>1.0</td>\n",
              "      <td>not specified</td>\n",
              "      <td>no</td>\n",
              "      <td>Mobile</td>\n",
              "      <td>no</td>\n",
              "      <td>-35309440075058000</td>\n",
              "      <td>-22435840075058000</td>\n",
              "      <td>38</td>\n",
              "      <td>267</td>\n",
              "      <td>305</td>\n",
              "      <td>2</td>\n",
              "      <td>19</td>\n",
              "      <td>21</td>\n",
              "      <td>NaN</td>\n",
              "      <td>Low</td>\n",
              "      <td>0</td>\n",
              "      <td>0</td>\n",
              "      <td>1</td>\n",
              "      <td>0</td>\n",
              "      <td>0</td>\n",
              "    </tr>\n",
              "    <tr>\n",
              "      <th>997</th>\n",
              "      <td>Owner Operator</td>\n",
              "      <td>CA</td>\n",
              "      <td>1.0</td>\n",
              "      <td>not specified</td>\n",
              "      <td>no</td>\n",
              "      <td>Other</td>\n",
              "      <td>no</td>\n",
              "      <td>-92247040075058000</td>\n",
              "      <td>-86026240075058000</td>\n",
              "      <td>19</td>\n",
              "      <td>5</td>\n",
              "      <td>24</td>\n",
              "      <td>11</td>\n",
              "      <td>0</td>\n",
              "      <td>11</td>\n",
              "      <td>NaN</td>\n",
              "      <td>High</td>\n",
              "      <td>1</td>\n",
              "      <td>0</td>\n",
              "      <td>0</td>\n",
              "      <td>0</td>\n",
              "      <td>0</td>\n",
              "    </tr>\n",
              "    <tr>\n",
              "      <th>998</th>\n",
              "      <td>Fleet</td>\n",
              "      <td>B.C.</td>\n",
              "      <td>101.0</td>\n",
              "      <td>not specified</td>\n",
              "      <td>no</td>\n",
              "      <td>Other</td>\n",
              "      <td>no</td>\n",
              "      <td>-156355840075058000</td>\n",
              "      <td>-126029440075058000</td>\n",
              "      <td>0</td>\n",
              "      <td>0</td>\n",
              "      <td>0</td>\n",
              "      <td>119</td>\n",
              "      <td>0</td>\n",
              "      <td>119</td>\n",
              "      <td>NaN</td>\n",
              "      <td>High</td>\n",
              "      <td>1</td>\n",
              "      <td>0</td>\n",
              "      <td>0</td>\n",
              "      <td>0</td>\n",
              "      <td>0</td>\n",
              "    </tr>\n",
              "    <tr>\n",
              "      <th>999</th>\n",
              "      <td>Fleet</td>\n",
              "      <td>CA</td>\n",
              "      <td>10.0</td>\n",
              "      <td>yes</td>\n",
              "      <td>no</td>\n",
              "      <td>Other</td>\n",
              "      <td>no</td>\n",
              "      <td>-32717440075058000</td>\n",
              "      <td>-11376640075058000</td>\n",
              "      <td>4</td>\n",
              "      <td>6</td>\n",
              "      <td>10</td>\n",
              "      <td>73</td>\n",
              "      <td>0</td>\n",
              "      <td>73</td>\n",
              "      <td>NaN</td>\n",
              "      <td>Low</td>\n",
              "      <td>1</td>\n",
              "      <td>0</td>\n",
              "      <td>0</td>\n",
              "      <td>0</td>\n",
              "      <td>0</td>\n",
              "    </tr>\n",
              "  </tbody>\n",
              "</table>\n",
              "<p>84300 rows × 22 columns</p>\n",
              "</div>"
            ],
            "text/plain": [
              "    dim_carrier_type home_base_state  num_trucks  ... poweronly reefer flatbed\n",
              "0     Owner Operator              CA         1.0  ...         1      0       0\n",
              "1              Fleet              CA        15.0  ...         1      0       0\n",
              "2     Owner Operator              CA         1.0  ...         1      0       0\n",
              "3              Fleet              CA       195.0  ...         1      0       0\n",
              "4     Owner Operator              CA         1.0  ...         0      0       0\n",
              "..               ...             ...         ...  ...       ...    ...     ...\n",
              "995            Fleet            B.C.       101.0  ...         0      0       0\n",
              "996   Owner Operator              CA         1.0  ...         1      0       0\n",
              "997   Owner Operator              CA         1.0  ...         0      0       0\n",
              "998            Fleet            B.C.       101.0  ...         0      0       0\n",
              "999            Fleet              CA        10.0  ...         0      0       0\n",
              "\n",
              "[84300 rows x 22 columns]"
            ]
          },
          "metadata": {
            "tags": []
          },
          "execution_count": 7
        }
      ]
    },
    {
      "cell_type": "code",
      "metadata": {
        "id": "lpBg0AZ0cLzM"
      },
      "source": [
        "df_unprepared = df_row_drop4.drop([\"new_label\"], axis=1)"
      ],
      "execution_count": null,
      "outputs": []
    },
    {
      "cell_type": "code",
      "metadata": {
        "id": "-Vnb2CvoCkJp"
      },
      "source": [
        "#Implementing sklearn pipeline, scales data and one-hot encodes\n",
        "from sklearn.impute import SimpleImputer\n",
        "from sklearn.compose import ColumnTransformer\n",
        "\n",
        "from sklearn.pipeline import Pipeline\n",
        "from sklearn.preprocessing import StandardScaler\n",
        "from sklearn.preprocessing import OneHotEncoder\n",
        "\n",
        "from sklearn.base import BaseEstimator, TransformerMixin\n",
        "\n",
        "\n",
        "#imputer = SimpleImputer(strategy=\"median\") # use median imputation for missing values\n",
        "df_num = df_unprepared.drop([\"dim_carrier_type\", \"home_base_state\", \"interested_in_drayage\", \"port_qualified\", \"signup_source\", \"driver_with_twic\", \"approval_tier\"], axis=1) # remove the categorical feature\n",
        "# column index\n",
        "\n",
        "num_pipeline = Pipeline([\n",
        "        #('imputer', SimpleImputer(strategy=\"median\")),\n",
        "        #('attribs_adder', AugmentFeatures()),\n",
        "        ('std_scaler', StandardScaler()),\n",
        "    ])\n",
        "\n",
        "numerical_features = list(df_num)\n",
        "categorical_features = [\"dim_carrier_type\", \"home_base_state\", \"interested_in_drayage\", \"port_qualified\", \"signup_source\", \"driver_with_twic\", \"approval_tier\"]\n",
        "\n",
        "full_pipeline = ColumnTransformer([\n",
        "        (\"num\", num_pipeline, numerical_features),\n",
        "        (\"cat\", OneHotEncoder(), categorical_features),\n",
        "    ])\n",
        "\n",
        "df_prepared = full_pipeline.fit_transform(df_unprepared)\n",
        "#score_prepared = full_pipeline.fit_transform(scores)"
      ],
      "execution_count": null,
      "outputs": []
    },
    {
      "cell_type": "code",
      "metadata": {
        "colab": {
          "base_uri": "https://localhost:8080/"
        },
        "id": "zxPNF2ezN7Xc",
        "outputId": "ab4e9064-2cc1-4ac8-9b30-422132696fda"
      },
      "source": [
        "#Splits the data back into the original train and test data\n",
        "from sklearn.model_selection import train_test_split\n",
        "data_train, score_test= train_test_split(df_prepared, train_size=83300, shuffle=False)\n",
        "print(df_prepared.shape)\n",
        "print(data_train.shape)"
      ],
      "execution_count": null,
      "outputs": [
        {
          "output_type": "stream",
          "text": [
            "(84300, 67)\n",
            "(83300, 67)\n"
          ],
          "name": "stdout"
        }
      ]
    },
    {
      "cell_type": "code",
      "metadata": {
        "id": "DDmab4EBYnyV",
        "colab": {
          "base_uri": "https://localhost:8080/"
        },
        "outputId": "68fefe57-3b4d-4cdb-ee99-338c685afcb8"
      },
      "source": [
        "from sklearn.model_selection import train_test_split\n",
        "data_target = df_row_drop4['new_label']\n",
        "data_target = data_target.dropna()\n",
        "print(data_target)\n",
        "#print(data_target.shape)\n",
        "#print(data_train.shape)\n",
        "#train, test, target, target_test = train_test_split(df_prepared, data_target, test_size=0.3, random_state=0)\n",
        "train, test, target, target_test = train_test_split(data_train, data_target, test_size=0.3, random_state=0)"
      ],
      "execution_count": null,
      "outputs": [
        {
          "output_type": "stream",
          "text": [
            "0        1.0\n",
            "1        0.0\n",
            "2        0.0\n",
            "3        0.0\n",
            "4        0.0\n",
            "        ... \n",
            "83409    1.0\n",
            "83410    0.0\n",
            "83411    0.0\n",
            "83412    0.0\n",
            "83413    1.0\n",
            "Name: new_label, Length: 83300, dtype: float64\n"
          ],
          "name": "stdout"
        }
      ]
    },
    {
      "cell_type": "code",
      "metadata": {
        "colab": {
          "base_uri": "https://localhost:8080/"
        },
        "id": "roW_jEnkZBJk",
        "outputId": "80d943c6-e883-4600-8987-a31b4da82193"
      },
      "source": [
        "# 5. Logistic Regression\n",
        "\n",
        "from sklearn.linear_model import LogisticRegression\n",
        "log_reg = LogisticRegression(solver = 'liblinear')\n",
        "log_reg.fit(train,target)\n",
        "predicted_log = log_reg.predict(test)\n",
        "print(\"Accuracy for logistic regression :\", metrics.accuracy_score(target_test,predicted_log))\n",
        "print(log_reg.coef_)"
      ],
      "execution_count": null,
      "outputs": [
        {
          "output_type": "stream",
          "text": [
            "Accuracy for logistic regression : 0.9148459383753501\n",
            "[[-6.07299935e+00 -1.42782045e-01  1.07656007e+00  2.07099213e-01\n",
            "   6.36681218e-01  6.62516297e-01  4.74061444e-01  2.42244817e-01\n",
            "   5.01349401e-01  4.39349733e-01  2.30351774e-01  1.64417454e-01\n",
            "  -4.53032910e-01 -1.51842988e-01 -8.19017572e-01 -7.72476212e-01\n",
            "  -1.07958351e-01  2.95955652e+00 -7.61579031e-01 -5.35783606e-03\n",
            "   2.86502692e-01 -8.27648315e-02 -7.86223812e-03 -2.10180887e-02\n",
            "  -1.25757939e+00 -5.48415240e-01 -8.18523080e-03 -5.58249170e-03\n",
            "   3.91788394e+00 -3.07038368e-01 -7.89245373e-03 -1.18018753e-01\n",
            "   0.00000000e+00 -1.09837484e-01 -4.34347111e-02 -1.21906717e-01\n",
            "  -6.55366516e-02 -1.27834372e-03 -9.17267514e-03 -5.39018582e-02\n",
            "  -8.97155084e-01 -4.30830742e-03 -1.32448184e+00 -2.75878900e-01\n",
            "  -2.35294466e-01 -2.81446630e-02 -3.76583168e-01 -1.43068255e-01\n",
            "  -9.95731623e-04 -1.38702254e-02 -9.15302281e-01 -9.48396094e-02\n",
            "   0.00000000e+00 -2.12917849e-01 -1.93624364e-02 -5.68913391e-01\n",
            "  -9.63854010e-01 -6.27639774e-01 -3.84264968e-01 -1.20722882e+00\n",
            "  -8.45677107e-01 -7.45816677e-01 -9.28718312e-01 -6.62775471e-01\n",
            "  -1.43602157e+00  4.60212339e-01 -6.15684554e-01]]\n"
          ],
          "name": "stdout"
        }
      ]
    },
    {
      "cell_type": "code",
      "metadata": {
        "colab": {
          "base_uri": "https://localhost:8080/",
          "height": 997
        },
        "id": "zHbK2AIANuBu",
        "outputId": "91d813b9-92a3-4691-8840-c513166e90b7"
      },
      "source": [
        "fig,ax = plt.subplots(figsize=(20,15))\n",
        "sns.heatmap(df_row_drop4.corr(), annot=True, fmt='.2f')"
      ],
      "execution_count": null,
      "outputs": [
        {
          "output_type": "execute_result",
          "data": {
            "text/plain": [
              "<matplotlib.axes._subplots.AxesSubplot at 0x7f86f6730c50>"
            ]
          },
          "metadata": {
            "tags": []
          },
          "execution_count": 171
        },
        {
          "output_type": "display_data",
          "data": {
            "image/png": "[encoded data removed]",
            "text/plain": [
              "<Figure size 1440x1080 with 2 Axes>"
            ]
          },
          "metadata": {
            "tags": [],
            "needs_background": "light"
          }
        }
      ]
    },
    {
      "cell_type": "code",
      "metadata": {
        "colab": {
          "base_uri": "https://localhost:8080/"
        },
        "id": "cwQBXLEi9oWr",
        "outputId": "8984130e-fbb2-42b1-9451-d87eec46eb4e"
      },
      "source": [
        "# 6. PCA\n",
        "from sklearn.decomposition import PCA\n",
        "print(df_prepared.shape)\n",
        "#print(data_train.shape)\n",
        "#print(data_train)\n",
        "# tune\n",
        "\n",
        "for i in range(df_prepared.shape[1]):\n",
        "  pca = PCA(n_components = i)\n",
        "  X_new = pca.fit_transform(df_prepared)\n",
        "  if sum(pca.explained_variance_ratio_) >= 0.99:\n",
        "    break\n",
        "\n",
        "\n",
        "'''\n",
        "for i in range(data_train.shape[1]):\n",
        "  pca = PCA(n_components = i)\n",
        "  X_new = pca.fit_transform(data_train)\n",
        "  if sum(pca.explained_variance_ratio_) >= 0.99:\n",
        "    break\n",
        "'''\n",
        "print(f\"PCA number of components: {pca.n_components_}\")\n",
        "print(sum(pca.explained_variance_ratio_))\n",
        "\n",
        "data_train, score_test= train_test_split(X_new, train_size=83300, shuffle=False)\n",
        "#train, test, target, target_test = train_test_split(X_new, data_target, test_size=0.3, random_state=0)\n",
        "train, test, target, target_test = train_test_split(data_train, data_target, test_size=0.3, random_state=0)"
      ],
      "execution_count": null,
      "outputs": [
        {
          "output_type": "stream",
          "text": [
            "(84300, 67)\n",
            "PCA number of components: 18\n",
            "0.9914903406066897\n"
          ],
          "name": "stdout"
        }
      ]
    },
    {
      "cell_type": "code",
      "metadata": {
        "id": "fygefsRqBA5_"
      },
      "source": [
        "# 7. Ensemble - RF\n",
        "from collections import OrderedDict\n",
        "from itertools import product\n",
        "from sklearn.ensemble import RandomForestClassifier\n",
        "from sklearn.metrics import roc_curve, auc"
      ],
      "execution_count": null,
      "outputs": []
    },
    {
      "cell_type": "code",
      "metadata": {
        "colab": {
          "base_uri": "https://localhost:8080/",
          "height": 584
        },
        "id": "JYjl35gJdoXt",
        "outputId": "b747194b-bc1d-4758-be66-98eb1bf2977c"
      },
      "source": [
        "n_estimators = [1,2,4,8,32,64,100,200]\n",
        "results = {}\n",
        "train_results = []\n",
        "test_results = []\n",
        "for ntrees in n_estimators:\n",
        "    est = RandomForestClassifier(oob_score=True, \n",
        "          n_estimators=ntrees, max_features=0.5, min_samples_leaf = 10, max_depth=10, n_jobs=-1, random_state=0)\n",
        "    est.fit(train, target)\n",
        "    fpr, tpr, thresholds = roc_curve(target, est.predict(train))\n",
        "    roc_auc = auc(fpr, tpr)\n",
        "    train_results.append(roc_auc)\n",
        "    fpr, tpr, thresholds = roc_curve(target_test, est.predict(test))\n",
        "    roc_auc = auc(fpr, tpr)\n",
        "    test_results.append(roc_auc)\n",
        "    \n",
        "    \n",
        "line1, = plt.plot(n_estimators, train_results, 'b', label=\"Train AUC\")\n",
        "line2, = plt.plot(n_estimators, test_results, 'r', label = \"Test AUC\")\n",
        "plt.ylabel('AUC Score')\n",
        "plt.xlabel('n_estimators')\n",
        "plt.show()\n",
        "ntrees = 30"
      ],
      "execution_count": null,
      "outputs": [
        {
          "output_type": "stream",
          "text": [
            "/usr/local/lib/python3.7/dist-packages/sklearn/ensemble/_forest.py:523: UserWarning: Some inputs do not have OOB scores. This probably means too few trees were used to compute any reliable oob estimates.\n",
            "  warn(\"Some inputs do not have OOB scores. \"\n",
            "/usr/local/lib/python3.7/dist-packages/sklearn/ensemble/_forest.py:528: RuntimeWarning: invalid value encountered in true_divide\n",
            "  predictions[k].sum(axis=1)[:, np.newaxis])\n",
            "/usr/local/lib/python3.7/dist-packages/sklearn/ensemble/_forest.py:523: UserWarning: Some inputs do not have OOB scores. This probably means too few trees were used to compute any reliable oob estimates.\n",
            "  warn(\"Some inputs do not have OOB scores. \"\n",
            "/usr/local/lib/python3.7/dist-packages/sklearn/ensemble/_forest.py:528: RuntimeWarning: invalid value encountered in true_divide\n",
            "  predictions[k].sum(axis=1)[:, np.newaxis])\n",
            "/usr/local/lib/python3.7/dist-packages/sklearn/ensemble/_forest.py:523: UserWarning: Some inputs do not have OOB scores. This probably means too few trees were used to compute any reliable oob estimates.\n",
            "  warn(\"Some inputs do not have OOB scores. \"\n",
            "/usr/local/lib/python3.7/dist-packages/sklearn/ensemble/_forest.py:528: RuntimeWarning: invalid value encountered in true_divide\n",
            "  predictions[k].sum(axis=1)[:, np.newaxis])\n",
            "/usr/local/lib/python3.7/dist-packages/sklearn/ensemble/_forest.py:523: UserWarning: Some inputs do not have OOB scores. This probably means too few trees were used to compute any reliable oob estimates.\n",
            "  warn(\"Some inputs do not have OOB scores. \"\n",
            "/usr/local/lib/python3.7/dist-packages/sklearn/ensemble/_forest.py:528: RuntimeWarning: invalid value encountered in true_divide\n",
            "  predictions[k].sum(axis=1)[:, np.newaxis])\n"
          ],
          "name": "stderr"
        },
        {
          "output_type": "display_data",
          "data": {
            "image/png": "[encoded data removed]",
            "text/plain": [
              "<Figure size 432x288 with 1 Axes>"
            ]
          },
          "metadata": {
            "tags": [],
            "needs_background": "light"
          }
        }
      ]
    },
    {
      "cell_type": "code",
      "metadata": {
        "colab": {
          "base_uri": "https://localhost:8080/",
          "height": 584
        },
        "id": "TV_x9J3f-9Vn",
        "outputId": "d0b345c1-c99c-4ec6-c56b-b304eabf157f"
      },
      "source": [
        "#Varying number of trees\n",
        "n_estimators = [1,2,4,8,32,64,100,200]\n",
        "results = {}\n",
        "train_results = []\n",
        "test_results = []\n",
        "for ntrees in n_estimators:\n",
        "    est = RandomForestClassifier(oob_score=True, \n",
        "          n_estimators=ntrees, max_features=0.5, min_samples_leaf = 10, max_depth=10, n_jobs=-1, random_state=0)\n",
        "    est.fit(train, target)\n",
        "    fpr, tpr, thresholds = roc_curve(target, est.predict(train))\n",
        "    roc_auc = auc(fpr, tpr)\n",
        "    train_results.append(roc_auc)\n",
        "    fpr, tpr, thresholds = roc_curve(target_test, est.predict(test))\n",
        "    roc_auc = auc(fpr, tpr)\n",
        "    test_results.append(roc_auc)\n",
        "    \n",
        "    \n",
        "line1, = plt.plot(n_estimators, train_results, 'b', label=\"Train AUC\")\n",
        "line2, = plt.plot(n_estimators, test_results, 'r', label = \"Test AUC\")\n",
        "plt.ylabel('AUC Score')\n",
        "plt.xlabel('n_estimators')\n",
        "plt.show()\n",
        "ntrees = 30"
      ],
      "execution_count": null,
      "outputs": [
        {
          "output_type": "stream",
          "text": [
            "/usr/local/lib/python3.7/dist-packages/sklearn/ensemble/_forest.py:523: UserWarning: Some inputs do not have OOB scores. This probably means too few trees were used to compute any reliable oob estimates.\n",
            "  warn(\"Some inputs do not have OOB scores. \"\n",
            "/usr/local/lib/python3.7/dist-packages/sklearn/ensemble/_forest.py:528: RuntimeWarning: invalid value encountered in true_divide\n",
            "  predictions[k].sum(axis=1)[:, np.newaxis])\n",
            "/usr/local/lib/python3.7/dist-packages/sklearn/ensemble/_forest.py:523: UserWarning: Some inputs do not have OOB scores. This probably means too few trees were used to compute any reliable oob estimates.\n",
            "  warn(\"Some inputs do not have OOB scores. \"\n",
            "/usr/local/lib/python3.7/dist-packages/sklearn/ensemble/_forest.py:528: RuntimeWarning: invalid value encountered in true_divide\n",
            "  predictions[k].sum(axis=1)[:, np.newaxis])\n",
            "/usr/local/lib/python3.7/dist-packages/sklearn/ensemble/_forest.py:523: UserWarning: Some inputs do not have OOB scores. This probably means too few trees were used to compute any reliable oob estimates.\n",
            "  warn(\"Some inputs do not have OOB scores. \"\n",
            "/usr/local/lib/python3.7/dist-packages/sklearn/ensemble/_forest.py:528: RuntimeWarning: invalid value encountered in true_divide\n",
            "  predictions[k].sum(axis=1)[:, np.newaxis])\n",
            "/usr/local/lib/python3.7/dist-packages/sklearn/ensemble/_forest.py:523: UserWarning: Some inputs do not have OOB scores. This probably means too few trees were used to compute any reliable oob estimates.\n",
            "  warn(\"Some inputs do not have OOB scores. \"\n",
            "/usr/local/lib/python3.7/dist-packages/sklearn/ensemble/_forest.py:528: RuntimeWarning: invalid value encountered in true_divide\n",
            "  predictions[k].sum(axis=1)[:, np.newaxis])\n"
          ],
          "name": "stderr"
        },
        {
          "output_type": "display_data",
          "data": {
            "image/png": "[encoded data removed]",
            "text/plain": [
              "<Figure size 432x288 with 1 Axes>"
            ]
          },
          "metadata": {
            "tags": [],
            "needs_background": "light"
          }
        }
      ]
    },
    {
      "cell_type": "code",
      "metadata": {
        "id": "ZOJ8OV3V--bY",
        "colab": {
          "base_uri": "https://localhost:8080/",
          "height": 282
        },
        "outputId": "a54e358b-a042-4230-c7ff-bd0815d97994"
      },
      "source": [
        "#Varying max features to split between\n",
        "max_features = np.linspace(0.1, 1.0, 10, endpoint=True)\n",
        "train_results = []\n",
        "test_results = []\n",
        "for maxf in max_features:\n",
        "    est = RandomForestClassifier(oob_score=True, \n",
        "          n_estimators=30, max_features=maxf, min_samples_leaf = 10, max_depth=10, n_jobs=-1, random_state=0)\n",
        "    est.fit(train, target)\n",
        "    fpr, tpr, thresholds = roc_curve(target, est.predict(train))\n",
        "    roc_auc = auc(fpr, tpr)\n",
        "    train_results.append(roc_auc)\n",
        "    fpr, tpr, thresholds = roc_curve(target_test, est.predict(test))\n",
        "    roc_auc = auc(fpr, tpr)\n",
        "    results[ntrees] = roc_auc\n",
        "    test_results.append(roc_auc)\n",
        "    \n",
        "    \n",
        "line1, = plt.plot(max_features, train_results, 'b', label=\"Train AUC\")\n",
        "line2, = plt.plot(max_features, test_results, 'r', label = \"Test AUC\")\n",
        "plt.ylabel('AUC Score')\n",
        "plt.xlabel('max_features')\n",
        "plt.show()\n",
        "max_features = 0.2"
      ],
      "execution_count": null,
      "outputs": [
        {
          "output_type": "display_data",
          "data": {
            "image/png": "[encoded data removed]",
            "text/plain": [
              "<Figure size 432x288 with 1 Axes>"
            ]
          },
          "metadata": {
            "tags": [],
            "needs_background": "light"
          }
        }
      ]
    },
    {
      "cell_type": "code",
      "metadata": {
        "id": "2reCBSvx_A2l",
        "colab": {
          "base_uri": "https://localhost:8080/",
          "height": 281
        },
        "outputId": "fd892c09-a9f2-4827-bb63-d58a74b387bd"
      },
      "source": [
        "#Varying min samples per leaf\n",
        "min_samples_leaf = [1,2,3,4,5,10,20,50,100,500,1000]\n",
        "train_results = []\n",
        "test_results = []\n",
        "for minlf in min_samples_leaf:\n",
        "    est = RandomForestClassifier(oob_score=True, \n",
        "          n_estimators=30, max_features=0.2, min_samples_leaf = minlf, max_depth=10, n_jobs=-1, random_state=0)\n",
        "    est.fit(train, target)\n",
        "    fpr, tpr, thresholds = roc_curve(target, est.predict(train))\n",
        "    roc_auc = auc(fpr, tpr)\n",
        "    train_results.append(roc_auc)\n",
        "    fpr, tpr, thresholds = roc_curve(target_test, est.predict(test))\n",
        "    roc_auc = auc(fpr, tpr)\n",
        "    test_results.append(roc_auc)\n",
        "    \n",
        "    \n",
        "line1, = plt.plot(min_samples_leaf, train_results, 'b', label=\"Train AUC\")\n",
        "line2, = plt.plot(min_samples_leaf, test_results, 'r', label = \"Test AUC\")\n",
        "plt.ylabel('AUC Score')\n",
        "plt.xlabel('min_samples_leaf')\n",
        "plt.show()\n",
        "min_samples_leaf = 2"
      ],
      "execution_count": null,
      "outputs": [
        {
          "output_type": "display_data",
          "data": {
            "image/png": "[encoded data removed]",
            "text/plain": [
              "<Figure size 432x288 with 1 Axes>"
            ]
          },
          "metadata": {
            "tags": [],
            "needs_background": "light"
          }
        }
      ]
    },
    {
      "cell_type": "code",
      "metadata": {
        "id": "8Oxy43gE_DGk",
        "colab": {
          "base_uri": "https://localhost:8080/",
          "height": 280
        },
        "outputId": "4cca5bd6-5096-437d-c274-02e33c3b82e9"
      },
      "source": [
        "#Varying max depth\n",
        "max_depth = np.linspace(1, 15, 15, endpoint=True)\n",
        "train_results = []\n",
        "test_results = []\n",
        "for maxdp in max_depth:\n",
        "    est = RandomForestClassifier(oob_score=True, \n",
        "          n_estimators=25, max_features=0.2, min_samples_leaf = 5, max_depth=maxdp, n_jobs=-1, random_state=0)\n",
        "    est.fit(train, target)\n",
        "    fpr, tpr, thresholds = roc_curve(target, est.predict(train))\n",
        "    roc_auc = auc(fpr, tpr)\n",
        "    train_results.append(roc_auc)\n",
        "    fpr, tpr, thresholds = roc_curve(target_test, est.predict(test))\n",
        "    roc_auc = auc(fpr, tpr)\n",
        "    test_results.append(roc_auc)\n",
        "    \n",
        "    \n",
        "line1, = plt.plot(max_depth, train_results, 'b', label=\"Train AUC\")\n",
        "line2, = plt.plot(max_depth, test_results, 'r', label = \"Test AUC\")\n",
        "plt.ylabel('AUC Score')\n",
        "plt.xlabel('max_depth')\n",
        "plt.show()\n",
        "max_depth = 10"
      ],
      "execution_count": null,
      "outputs": [
        {
          "output_type": "display_data",
          "data": {
            "image/png": "[encoded data removed]",
            "text/plain": [
              "<Figure size 432x288 with 1 Axes>"
            ]
          },
          "metadata": {
            "tags": [],
            "needs_background": "light"
          }
        }
      ]
    },
    {
      "cell_type": "code",
      "metadata": {
        "colab": {
          "base_uri": "https://localhost:8080/"
        },
        "id": "8Y2kRX6r_E43",
        "outputId": "5f8bcccd-476a-4a41-c93d-5d3d030f2dcd"
      },
      "source": [
        "# 7 - RF\n",
        "ntrees = 30\n",
        "max_depth = 10\n",
        "min_samples_leaf = 2\n",
        "max_features = 0.2\n",
        "est = RandomForestClassifier(oob_score=True, \n",
        "          n_estimators=ntrees, max_features=max_features, min_samples_leaf = min_samples_leaf, max_depth=max_depth, n_jobs=-1, random_state=0)\n",
        "est.fit(train, target)\n",
        "fpr, tpr, thresholds = roc_curve(target_test, est.predict(test))\n",
        "roc_auc = auc(fpr, tpr)\n",
        "print(roc_auc)\n",
        "print(est.score(test, target_test))"
      ],
      "execution_count": null,
      "outputs": [
        {
          "output_type": "stream",
          "text": [
            "0.9853085210577865\n",
            "0.9963985594237695\n"
          ],
          "name": "stdout"
        }
      ]
    },
    {
      "cell_type": "code",
      "metadata": {
        "colab": {
          "base_uri": "https://localhost:8080/"
        },
        "id": "ahGKq-XoJBuN",
        "outputId": "65ba6eb0-8f6a-4f10-85ae-9ab786d0d987"
      },
      "source": [
        "#8 - NN\n",
        "#varying number of nodes in hidden layer\n",
        "from sklearn.neural_network import MLPClassifier\n",
        "num_nodes = [2,10,20,100,200,500,1000]\n",
        "for i in num_nodes:\n",
        "  nn = MLPClassifier(hidden_layer_sizes=i)\n",
        "  nn.fit(train, target)\n",
        "  print(\"Score for \", i, \" nodes: \",nn.score(test, target_test))"
      ],
      "execution_count": null,
      "outputs": [
        {
          "output_type": "stream",
          "text": [
            "Score for  2  nodes:  0.946858743497399\n"
          ],
          "name": "stdout"
        },
        {
          "output_type": "stream",
          "text": [
            "/usr/local/lib/python3.7/dist-packages/sklearn/neural_network/_multilayer_perceptron.py:571: ConvergenceWarning: Stochastic Optimizer: Maximum iterations (200) reached and the optimization hasn't converged yet.\n",
            "  % self.max_iter, ConvergenceWarning)\n"
          ],
          "name": "stderr"
        },
        {
          "output_type": "stream",
          "text": [
            "Score for  10  nodes:  0.9948779511804722\n",
            "Score for  20  nodes:  0.9996798719487795\n",
            "Score for  100  nodes:  0.9997599039615847\n",
            "Score for  200  nodes:  0.9996798719487795\n",
            "Score for  500  nodes:  0.9996798719487795\n",
            "Score for  1000  nodes:  1.0\n"
          ],
          "name": "stdout"
        }
      ]
    },
    {
      "cell_type": "code",
      "metadata": {
        "colab": {
          "base_uri": "https://localhost:8080/"
        },
        "id": "MFNMfAtTxR3I",
        "outputId": "6e5177d8-b7c2-493d-c1b8-7564069e5ca4"
      },
      "source": [
        "#NN - varying learning rate\n",
        "learning_rate = [.0005, .001, .002, .005, .01]\n",
        "for i in learning_rate:\n",
        "  nn = MLPClassifier(learning_rate_init=i)\n",
        "  nn.fit(train, target)\n",
        "  print(\"Score for learning rate of \", i, \": \",nn.score(test, target_test))"
      ],
      "execution_count": null,
      "outputs": [
        {
          "output_type": "stream",
          "text": [
            "Score for learning rate of  0.0005 :  0.9997599039615847\n",
            "Score for learning rate of  0.001 :  1.0\n",
            "Score for learning rate of  0.002 :  1.0\n",
            "Score for learning rate of  0.005 :  1.0\n",
            "Score for learning rate of  0.01 :  1.0\n"
          ],
          "name": "stdout"
        }
      ]
    },
    {
      "cell_type": "code",
      "metadata": {
        "colab": {
          "base_uri": "https://localhost:8080/"
        },
        "id": "LLCOwn84Kc8A",
        "outputId": "3982145f-51d9-4a56-f7e0-9c0f51f99564"
      },
      "source": [
        "#9 - Cross Validation\n",
        "from sklearn.model_selection import cross_val_score\n",
        "RF_scores = cross_val_score(est, test, target_test, cv=10)\n",
        "print(\"RF: %0.5f accuracy with a standard deviation of %0.5f\" % (RF_scores.mean(), RF_scores.std()))\n"
      ],
      "execution_count": null,
      "outputs": [
        {
          "output_type": "stream",
          "text": [
            "RF: 0.99796 accuracy with a standard deviation of 0.00119\n"
          ],
          "name": "stdout"
        }
      ]
    },
    {
      "cell_type": "code",
      "metadata": {
        "colab": {
          "base_uri": "https://localhost:8080/"
        },
        "id": "q1uVlOgoLuPv",
        "outputId": "06ff7a05-97f8-468f-bb03-7f8691e6522c"
      },
      "source": [
        "#final model, includes cross-validation\n",
        "from sklearn.neural_network import MLPClassifier\n",
        "nn = MLPClassifier(hidden_layer_sizes=100, learning_rate_init=.001)\n",
        "nn.fit(train, target)\n",
        "print(\"Score: \",nn.score(test, target_test))\n",
        "NN_scores = cross_val_score(nn, test, target_test, cv=5)\n",
        "print(\"NN: %0.5f accuracy with a standard deviation of %0.5f\" % (NN_scores.mean(), NN_scores.std()))"
      ],
      "execution_count": null,
      "outputs": [
        {
          "output_type": "stream",
          "text": [
            "Score:  0.9996798719487795\n"
          ],
          "name": "stdout"
        },
        {
          "output_type": "stream",
          "text": [
            "/usr/local/lib/python3.7/dist-packages/sklearn/neural_network/_multilayer_perceptron.py:573: UserWarning: Training interrupted by user.\n",
            "  warnings.warn(\"Training interrupted by user.\")\n",
            "/usr/local/lib/python3.7/dist-packages/sklearn/neural_network/_multilayer_perceptron.py:573: UserWarning: Training interrupted by user.\n",
            "  warnings.warn(\"Training interrupted by user.\")\n",
            "/usr/local/lib/python3.7/dist-packages/sklearn/neural_network/_multilayer_perceptron.py:573: UserWarning: Training interrupted by user.\n",
            "  warnings.warn(\"Training interrupted by user.\")\n"
          ],
          "name": "stderr"
        },
        {
          "output_type": "stream",
          "text": [
            "NN: 0.99116 accuracy with a standard deviation of 0.00908\n"
          ],
          "name": "stdout"
        }
      ]
    },
    {
      "cell_type": "code",
      "metadata": {
        "colab": {
          "base_uri": "https://localhost:8080/"
        },
        "id": "x_IPD1Nz1b36",
        "outputId": "2f7e88f3-6cb2-4983-fccb-89962c2d9c4d"
      },
      "source": [
        "#printing out the predictions\n",
        "results = nn.predict(score_test)\n",
        "print(results)"
      ],
      "execution_count": null,
      "outputs": [
        {
          "output_type": "stream",
          "text": [
            "[0. 0. 0. 0. 0. 0. 0. 0. 0. 0. 1. 0. 0. 0. 0. 0. 0. 0. 0. 0. 0. 0. 0. 0.\n",
            " 0. 0. 1. 0. 0. 0. 1. 0. 1. 0. 0. 0. 0. 0. 0. 0. 0. 0. 0. 0. 1. 0. 0. 0.\n",
            " 0. 0. 0. 0. 0. 0. 1. 0. 0. 0. 0. 1. 0. 0. 0. 0. 0. 0. 0. 0. 0. 0. 0. 0.\n",
            " 0. 0. 0. 0. 0. 0. 0. 0. 0. 0. 0. 0. 0. 0. 0. 0. 0. 0. 0. 0. 0. 0. 0. 1.\n",
            " 0. 1. 0. 0. 1. 0. 0. 0. 0. 0. 0. 0. 0. 0. 0. 0. 0. 0. 1. 0. 0. 0. 0. 0.\n",
            " 0. 0. 1. 1. 0. 0. 0. 0. 1. 0. 1. 0. 0. 0. 0. 0. 0. 0. 0. 0. 0. 0. 0. 1.\n",
            " 0. 0. 0. 0. 0. 0. 0. 1. 1. 0. 0. 1. 0. 0. 0. 0. 0. 0. 0. 0. 1. 0. 0. 1.\n",
            " 0. 0. 0. 0. 0. 0. 0. 0. 0. 0. 0. 0. 0. 0. 0. 0. 0. 0. 0. 0. 0. 0. 0. 0.\n",
            " 0. 0. 0. 0. 0. 0. 0. 0. 1. 0. 0. 0. 0. 0. 0. 0. 0. 0. 0. 0. 0. 0. 1. 0.\n",
            " 0. 0. 0. 0. 0. 0. 1. 0. 1. 1. 0. 0. 1. 0. 0. 0. 0. 0. 0. 0. 0. 0. 0. 0.\n",
            " 0. 0. 0. 0. 0. 0. 0. 1. 0. 0. 1. 0. 0. 0. 0. 0. 0. 0. 0. 0. 0. 1. 1. 0.\n",
            " 0. 0. 0. 0. 0. 0. 0. 0. 0. 0. 0. 0. 0. 0. 0. 0. 0. 0. 0. 0. 0. 0. 1. 0.\n",
            " 0. 0. 1. 0. 0. 0. 0. 0. 0. 0. 0. 0. 0. 0. 0. 0. 0. 1. 0. 0. 1. 0. 0. 0.\n",
            " 0. 0. 0. 0. 0. 0. 0. 0. 0. 0. 0. 0. 0. 0. 0. 0. 0. 0. 0. 0. 0. 0. 0. 0.\n",
            " 0. 0. 0. 0. 0. 0. 0. 1. 0. 0. 0. 0. 0. 0. 0. 0. 1. 1. 1. 0. 1. 0. 0. 0.\n",
            " 0. 0. 0. 0. 0. 1. 0. 0. 0. 0. 0. 0. 0. 0. 0. 0. 0. 0. 0. 1. 0. 0. 0. 0.\n",
            " 0. 0. 1. 0. 0. 0. 0. 0. 0. 0. 0. 0. 0. 0. 0. 0. 0. 0. 0. 1. 1. 1. 0. 1.\n",
            " 0. 1. 0. 0. 0. 0. 1. 0. 0. 0. 0. 0. 0. 0. 0. 0. 0. 0. 0. 0. 0. 0. 1. 0.\n",
            " 0. 1. 0. 0. 0. 0. 0. 1. 0. 0. 1. 0. 0. 0. 0. 1. 1. 0. 0. 1. 0. 0. 0. 0.\n",
            " 0. 1. 0. 0. 0. 0. 0. 0. 0. 0. 0. 0. 0. 0. 1. 0. 0. 0. 0. 0. 0. 0. 0. 0.\n",
            " 0. 0. 0. 0. 0. 0. 0. 0. 0. 1. 0. 0. 0. 0. 1. 0. 1. 0. 0. 0. 0. 0. 0. 0.\n",
            " 0. 0. 1. 0. 0. 0. 0. 0. 0. 0. 0. 0. 0. 0. 0. 0. 1. 0. 1. 0. 0. 1. 0. 0.\n",
            " 0. 0. 0. 0. 0. 0. 0. 0. 0. 0. 1. 0. 0. 1. 0. 0. 0. 0. 0. 0. 0. 0. 0. 0.\n",
            " 0. 0. 0. 0. 0. 1. 0. 0. 0. 0. 0. 0. 0. 0. 0. 0. 0. 0. 1. 0. 0. 0. 0. 0.\n",
            " 0. 0. 0. 0. 0. 0. 0. 0. 0. 0. 0. 0. 0. 0. 0. 0. 0. 1. 0. 1. 0. 0. 0. 0.\n",
            " 0. 0. 1. 0. 0. 0. 0. 0. 0. 0. 0. 0. 0. 0. 0. 0. 0. 0. 0. 0. 0. 0. 0. 0.\n",
            " 0. 0. 0. 1. 0. 0. 0. 0. 0. 1. 0. 0. 0. 0. 0. 0. 0. 0. 0. 0. 0. 0. 0. 0.\n",
            " 0. 0. 0. 0. 0. 0. 1. 0. 0. 0. 0. 0. 1. 0. 0. 0. 0. 0. 0. 0. 0. 0. 0. 1.\n",
            " 0. 0. 0. 0. 0. 0. 1. 0. 0. 0. 0. 0. 0. 0. 0. 0. 0. 0. 0. 0. 0. 0. 0. 0.\n",
            " 0. 0. 1. 0. 0. 0. 0. 1. 0. 0. 0. 0. 0. 0. 0. 0. 1. 0. 0. 0. 0. 0. 0. 1.\n",
            " 0. 1. 0. 0. 0. 0. 0. 0. 0. 0. 0. 0. 0. 0. 0. 0. 1. 0. 0. 0. 0. 0. 0. 1.\n",
            " 1. 0. 0. 1. 1. 0. 1. 0. 0. 0. 0. 0. 0. 0. 0. 0. 0. 0. 0. 0. 1. 0. 0. 0.\n",
            " 1. 0. 0. 0. 0. 0. 1. 0. 0. 0. 1. 0. 0. 0. 0. 0. 0. 0. 0. 0. 0. 0. 1. 0.\n",
            " 0. 0. 1. 0. 0. 0. 0. 0. 0. 0. 0. 0. 0. 0. 0. 1. 0. 0. 0. 1. 0. 0. 0. 0.\n",
            " 0. 0. 0. 0. 0. 0. 0. 0. 0. 0. 1. 0. 0. 0. 1. 0. 0. 1. 0. 0. 0. 0. 0. 0.\n",
            " 0. 0. 1. 0. 0. 0. 0. 0. 0. 0. 0. 0. 1. 0. 0. 0. 0. 0. 0. 0. 0. 1. 0. 0.\n",
            " 0. 0. 0. 0. 0. 0. 0. 0. 0. 0. 0. 0. 0. 0. 0. 0. 0. 0. 0. 0. 0. 1. 0. 0.\n",
            " 0. 0. 0. 0. 1. 0. 0. 0. 0. 0. 1. 0. 1. 0. 1. 0. 0. 0. 0. 0. 0. 0. 0. 0.\n",
            " 1. 1. 1. 0. 0. 0. 0. 0. 0. 1. 0. 0. 0. 0. 0. 0. 0. 0. 0. 0. 0. 0. 0. 0.\n",
            " 1. 0. 0. 0. 0. 0. 0. 0. 0. 0. 0. 0. 0. 0. 0. 0. 0. 0. 0. 0. 0. 0. 0. 0.\n",
            " 1. 0. 0. 0. 0. 0. 1. 1. 0. 0. 0. 0. 1. 1. 0. 0. 0. 1. 0. 1. 0. 1. 0. 0.\n",
            " 0. 0. 1. 0. 0. 0. 0. 0. 0. 0. 0. 0. 0. 0. 0. 0.]\n"
          ],
          "name": "stdout"
        }
      ]
    },
    {
      "cell_type": "code",
      "metadata": {
        "colab": {
          "base_uri": "https://localhost:8080/"
        },
        "id": "TrJeeXntN698",
        "outputId": "73d1c526-6f74-4836-9df7-2f9face37a84"
      },
      "source": [
        "#10 - Custom Models\n",
        "\n",
        "print(\"None needed, the NN perfomed so well\")"
      ],
      "execution_count": null,
      "outputs": [
        {
          "output_type": "stream",
          "text": [
            "None needed, the NN perfomed so well\n"
          ],
          "name": "stdout"
        }
      ]
    },
    {
      "cell_type": "code",
      "metadata": {
        "id": "9ei3UWUkgfSR"
      },
      "source": [
        "#generating the submission file\n",
        "import csv  \n",
        "# field names  \n",
        "fields = ['Id', 'Predicted']  \n",
        "ids = [*range(83414, 84414)]\n",
        "\n",
        "predictions = results\n",
        "\n",
        "\n",
        "# data rows of csv file  \n",
        "# name of csv file  \n",
        "filename = \"submission.csv\"\n",
        "# writing to csv file  \n",
        "\n",
        "with open(filename, 'w') as csvfile:  \n",
        "    # creating a csv writer object  \n",
        "    csvwriter = csv.writer(csvfile)  \n",
        "    # writing the fields  \n",
        "    csvwriter.writerow(fields)  \n",
        "        \n",
        "    # writing the data rows  \n",
        "    for i in range(1000):\n",
        "      item = [ids[i], int(predictions[i])]\n",
        "      csvwriter.writerow(item)\n"
      ],
      "execution_count": null,
      "outputs": []
    }
  ]
}